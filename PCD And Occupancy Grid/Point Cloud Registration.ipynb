{
 "cells": [
  {
   "cell_type": "code",
   "execution_count": 1,
   "metadata": {},
   "outputs": [],
   "source": [
    "import os\n",
    "import open3d as o3d \n",
    "from dataset.utils import readData, readPointCloud\n",
    "import numpy as np\n",
    "import tqdm"
   ]
  },
  {
   "cell_type": "code",
   "execution_count": 2,
   "metadata": {},
   "outputs": [],
   "source": [
    "def maty(eul_angles):\n",
    "    mat = np.eye(3)\n",
    "    for angle in eul_angles:\n",
    "        ang,frame = angle\n",
    "        ang = ang*np.pi/180\n",
    "        if frame == 'x':\n",
    "            r = np.array([[1,0,0],[0,np.cos(ang),np.sin(ang)],[0,-np.sin(ang),np.cos(ang)]])\n",
    "        elif frame == 'y':\n",
    "            r = np.array([[np.cos(ang),0,-np.sin(ang)],[0,1,0],[np.sin(ang),0,np.cos(ang)]]) \n",
    "        elif frame == 'z':\n",
    "            r = np.array([[np.cos(ang),np.sin(ang),0],[-np.sin(ang),np.cos(ang),0],[0,0,1]]) \n",
    "        mat = r@mat\n",
    "    return mat.T"
   ]
  },
  {
   "cell_type": "code",
   "execution_count": 36,
   "metadata": {},
   "outputs": [],
   "source": [
    "def pcd_individual(pcloud,bounds,lidar2camera,pose):\n",
    "    points = []\n",
    "    for j in range(pcloud.shape[0]):\n",
    "        if (abs(pcloud[j][0])) > bounds[0] or (abs(pcloud[j][1])) > bounds[1] or (abs(pcloud[j][2])) > bounds[2] :\n",
    "            continue\n",
    "        else:\n",
    "            points.append(pcloud[j][:3])\n",
    "\n",
    "    points = np.array(points)\n",
    "    pcd = o3d.geometry.PointCloud()\n",
    "    pcd.points = o3d.utility.Vector3dVector(points)\n",
    "\n",
    "    pcd = pcd.voxel_down_sample(voxel_size=0.5)\n",
    "\n",
    "    pcd = pcd.rotate(lidar2camera,(0,0,0))\n",
    "    A = np.asarray(pcd.points)\n",
    "\n",
    "    src = np.ones((4,A.shape[0]))\n",
    "    src[0:3,:] = np.copy(A.T)\n",
    "\n",
    "    tmat = pose\n",
    "    tmat = np.vstack((tmat,[0,0,0,1]))\n",
    "\n",
    "    src = np.dot(tmat,src)\n",
    "    pcd.points = o3d.utility.Vector3dVector(src.T[:,:3])\n",
    "    return pcd"
   ]
  },
  {
   "cell_type": "code",
   "execution_count": 38,
   "metadata": {},
   "outputs": [
    {
     "name": "stderr",
     "output_type": "stream",
     "text": [
      "100%|██████████| 1/1 [00:01<00:00,  1.23s/it]\n"
     ]
    }
   ],
   "source": [
    "path = 'dataset/01'\n",
    "pclouds = []\n",
    "poses = readData('dataset/01.txt')[:77].reshape(-1,3,4)\n",
    "bounds = np.array([50,50,10])\n",
    "lidar2camera = maty([(90,'x'),(90,'z')])\n",
    "for file in tqdm.tqdm(sorted(os.listdir(path)[:1])):\n",
    "    pcloud_path = path+'/'+file\n",
    "    try:\n",
    "        index = int(file.split('.')[0].split('0')[-1])\n",
    "    except ValueError:\n",
    "        index = 0\n",
    "    pcloud = readPointCloud(pcloud_path)\n",
    "    ps = pcd_individual(pcloud,bounds,lidar2camera,poses[index])\n",
    "    pclouds.append(ps)\n",
    "s=pclouds[0]\n",
    "for i in pclouds[1:]:\n",
    "    s+= i\n",
    "o3d.visualization.draw_geometries([s])"
   ]
  }
 ],
 "metadata": {
  "kernelspec": {
   "display_name": "Python 3",
   "language": "python",
   "name": "python3"
  },
  "language_info": {
   "codemirror_mode": {
    "name": "ipython",
    "version": 3
   },
   "file_extension": ".py",
   "mimetype": "text/x-python",
   "name": "python",
   "nbconvert_exporter": "python",
   "pygments_lexer": "ipython3",
   "version": "3.7.7"
  }
 },
 "nbformat": 4,
 "nbformat_minor": 4
}
